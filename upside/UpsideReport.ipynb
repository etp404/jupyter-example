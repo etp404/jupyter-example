{
 "cells": [
  {
   "cell_type": "heading",
   "metadata": {},
   "level": 3,
   "source": [
    "Data Science Interview Task"
   ]
  },
  {
   "cell_type": "markdown",
   "metadata": {},
   "source": [
    "My first approach to this problem was to generate a histogram of the frequency outputs, and possible use a mixture of guassians model to represent their distribution. "
   ]
  },
  {
   "cell_type": "code",
   "execution_count": 6,
   "metadata": {},
   "outputs": [
    {
     "data": {
      "text/plain": [
       "'Histogram of frequencies'"
      ]
     },
     "execution_count": 6,
     "metadata": {},
     "output_type": "execute_result"
    },
    {
     "data": {
      "image/png": "[encoded data removed]",
      "text/plain": [
       "<matplotlib.figure.Figure at 0x10f467fd0>"
      ]
     },
     "metadata": {},
     "output_type": "display_data"
    }
   ],
   "source": [
    "from numpy import genfromtxt, math\n",
    "import matplotlib.pyplot as plt\n",
    "\n",
    "frequency_variations = genfromtxt('upside/2015_2mo.csv', delimiter=',')\n",
    "\n",
    "plt.hist(frequency_variations[2:-1,1], bins=100)\n",
    "\n",
    "\"Histogram of frequencies\""
   ]
  },
  {
   "cell_type": "markdown",
   "metadata": {},
   "source": [
    "However, because I would need to take into account the state of the battery I opted instead to create a model of the system, and run it through the sample data.\n",
    "\n",
    "To visualise this, I generated a plot of the frequency of the system under control, and the energy held by the battery as follows. Please forgive the messiness of the code in this snippet. The model itself should be reasonably easy to understand.\n",
    "\n",
    "N.B. I got bizarre results when I used a self discharge rate of 100kWh, so I swapped it out to 10 kWh. This can be altered by changing the arguments sent to the battery. I also wouldn't normally use default arguments as I have here were it a real system as it would make it too easy to make an error when creating building the objects."
   ]
  },
  {
   "cell_type": "code",
   "execution_count": 7,
   "metadata": {
    "collapsed": false
   },
   "outputs": [],
   "source": [
    "\n",
    "from numpy import genfromtxt, math\n",
    "from datetime import datetime\n",
    "import numpy as np\n",
    "\n",
    "from upside.systemsimulation.Battery import Battery\n",
    "from upside.systemsimulation.DFFRService import DFFRService\n",
    "\n",
    "frequency_variations = genfromtxt('upside/2015_2mo.csv', delimiter=',')\n",
    "\n",
    "battery = Battery()\n",
    "service = DFFRService(battery=battery)\n",
    "\n",
    "frequencyHistory = np.empty((0,2), int)\n",
    "for record in frequency_variations:\n",
    "    if math.isnan(record[0]):\n",
    "        continue\n",
    "\n",
    "    datetime = datetime.utcfromtimestamp(record[0])\n",
    "\n",
    "    frequencyHistory = np.append(frequencyHistory, [[record[1],battery.energy_stored()]], axis=0)\n",
    "\n",
    "    service.regulate_load(record[1], 1)\n",
    "\n",
    "    if (datetime.day==2):\n",
    "        break\n",
    "\n",
    "import matplotlib.pyplot as plt\n",
    "\n",
    "fig, ax1 = plt.subplots()\n",
    "ax1.plot(frequencyHistory[:,0],'b')\n",
    "ax1.set_ylabel('Frequency (Hz)')\n",
    "ax2 = ax1.twinx()\n",
    "ax2.plot(frequencyHistory[:,1],'r')\n",
    "ax2.set_ylabel('Energy held in battery (MWh)')\n",
    "\n"
   ]
  },
  {
   "cell_type": "markdown",
   "metadata": {},
   "source": [
    "To answer the question \"The probability of being unable to run a contract continuously from midnight to 8am\", I ran the model over the dataset, recording the number of days on which the system failed. I then give the probability from these data."
   ]
  },
  {
   "cell_type": "code",
   "execution_count": null,
   "metadata": {
    "collapsed": true
   },
   "outputs": [
    {
     "name": "stdout",
     "output_type": "stream",
     "text": [
      "The system could not provide an unbroken contract for 42 of 60 days, so the probability of it succeeding on a given day is is 0.70\n"
     ]
    }
   ],
   "source": [
    "isBetweenMidnightAndEight = False\n",
    "continuouslyWorking = False\n",
    "\n",
    "countOfSuccesses=0\n",
    "countOfFails=0\n",
    "for record in frequency_variations:\n",
    "    if math.isnan(record[0]):\n",
    "        continue\n",
    "         \n",
    "    datetime = datetime.utcfromtimestamp(record[0])\n",
    "    loadRegulatedSuccessfully = service.regulate_load(record[1], 1)\n",
    "    if datetime.hour == 0:\n",
    "        isBetweenMidnightAndEight=True\n",
    "        continuouslyWorking=True\n",
    "\n",
    "    elif isBetweenMidnightAndEight:\n",
    "        continuouslyWorking &= loadRegulatedSuccessfully\n",
    "        \n",
    "    if isBetweenMidnightAndEight & (datetime.hour == 9):\n",
    "        if continuouslyWorking:\n",
    "            countOfSuccesses+=1\n",
    "        else:\n",
    "            countOfFails+=1\n",
    "        isBetweenMidnightAndEight=False\n",
    "        \n",
    "total = countOfSuccesses + countOfFails\n",
    "probabilityOfFail = countOfFails/ total\n",
    "print(\"The system could not provide an unbroken contract for %d of %d days, so the probability of it failing on a given day is is %.2f\" % (countOfFails, total, probabilityOfFail))"
   ]
  },
  {
   "cell_type": "code",
   "execution_count": null,
   "metadata": {},
   "outputs": [
    {
     "name": "stdout",
     "output_type": "stream",
     "text": [
      "Probability of a success in a given second is 0.952783\n"
     ]
    }
   ],
   "source": [
    "countOfSuccesses=0\n",
    "total=0\n",
    "for record in frequency_variations:\n",
    "    if math.isnan(record[0]):\n",
    "        continue\n",
    "     \n",
    "    if service.regulate_load(record[1], 1):\n",
    "        countOfSuccesses+=1\n",
    "    \n",
    "    total+=1\n",
    "        \n",
    "pSuccessOnAGivenSecond = countOfSuccesses/total\n",
    "\n",
    "print(\"Probability of a success in a given second is %.6f\" % (pSuccessOnAGivenSecond))"
   ]
  },
  {
   "cell_type": "markdown",
   "metadata": {},
   "source": [
    "Assuming that the frequency measurements are independent, which is maybe an oversimplification, and that the probability of success can be modelled as X~B(n,p). The probability of fail after N trials is equivalent to probability of success for N trials.\n",
    "\n",
    "X represents no. fails\n",
    "\n",
    "P(X>=1) >= 0.2\n",
    "\n",
    "1 - (P(X<1)) >= 0.2\n",
    "\n",
    "1 - P(X=0) >= 0.2\n",
    "\n",
    "1 - p(success)^N >= 0.2\n",
    "\n",
    "0.8 >= p(success)^N\n",
    "\n",
    "log(0.8) >= Nlog(p(success))\n",
    "\n",
    "log(0.8(/log(p(success)) >= N"
   ]
  },
  {
   "cell_type": "code",
   "execution_count": 16,
   "metadata": {},
   "outputs": [
    {
     "name": "stdout",
     "output_type": "stream",
     "text": [
      "System should run for 33 seconds before the probability of fail exceeds 20%\n"
     ]
    }
   ],
   "source": [
    "from math import log\n",
    "\n",
    "n = log(0.2)/log(pSuccessOnAGivenSecond)\n",
    "\n",
    "print(\"System should run for %d seconds before the probability of fail exceeds 20%%\" % n)"
   ]
  },
  {
   "cell_type": "code",
   "execution_count": null,
   "metadata": {},
   "outputs": [],
   "source": []
  }
 ],
 "metadata": {
  "kernelspec": {
   "display_name": "Python 2",
   "language": "python",
   "name": "python2"
  },
  "language_info": {
   "codemirror_mode": {
    "name": "ipython",
    "version": 2
   },
   "file_extension": ".py",
   "mimetype": "text/x-python",
   "name": "python",
   "nbconvert_exporter": "python",
   "pygments_lexer": "ipython2",
   "version": "2.7.6"
  }
 },
 "nbformat": 4,
 "nbformat_minor": 0
}
